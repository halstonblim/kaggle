{
 "cells": [
  {
   "cell_type": "code",
   "execution_count": 2,
   "id": "7b0a2b8e-d134-4ac0-afc9-2d7fe51a1e10",
   "metadata": {
    "execution": {
     "iopub.execute_input": "2025-03-20T23:02:44.565864Z",
     "iopub.status.busy": "2025-03-20T23:02:44.565864Z",
     "iopub.status.idle": "2025-03-20T23:02:48.077989Z",
     "shell.execute_reply": "2025-03-20T23:02:48.077381Z",
     "shell.execute_reply.started": "2025-03-20T23:02:44.565864Z"
    }
   },
   "outputs": [],
   "source": [
    "import pandas as pd\n",
    "import torch"
   ]
  },
  {
   "cell_type": "code",
   "execution_count": 3,
   "id": "72df9cbd-6768-40fb-9041-7c9b9951c5e3",
   "metadata": {
    "execution": {
     "iopub.execute_input": "2025-03-20T23:02:48.078996Z",
     "iopub.status.busy": "2025-03-20T23:02:48.078996Z",
     "iopub.status.idle": "2025-03-20T23:02:48.118066Z",
     "shell.execute_reply": "2025-03-20T23:02:48.117058Z",
     "shell.execute_reply.started": "2025-03-20T23:02:48.078996Z"
    }
   },
   "outputs": [
    {
     "name": "stdout",
     "output_type": "stream",
     "text": [
      "train = (2190, 13), test = (730, 12), sample submission = (730, 2)\n"
     ]
    }
   ],
   "source": [
    "train = pd.read_csv(\"train.csv\")\n",
    "test = pd.read_csv(\"test.csv\")\n",
    "sub_fl = pd.read_csv(\"sample_submission.csv\")\n",
    "print(f\"train = {train.shape}, test = {test.shape}, sample submission = {sub_fl.shape}\")"
   ]
  },
  {
   "cell_type": "code",
   "execution_count": 13,
   "id": "7d74fa81-381c-4420-9293-911a5045d6b1",
   "metadata": {
    "execution": {
     "iopub.execute_input": "2025-03-21T00:02:23.155010Z",
     "iopub.status.busy": "2025-03-21T00:02:23.153481Z",
     "iopub.status.idle": "2025-03-21T00:02:23.157877Z",
     "shell.execute_reply": "2025-03-21T00:02:23.157877Z",
     "shell.execute_reply.started": "2025-03-21T00:02:23.155010Z"
    }
   },
   "outputs": [],
   "source": [
    "class Configuration:\n",
    "    target = \"rainfall\"\n",
    "    state = 42"
   ]
  },
  {
   "cell_type": "code",
   "execution_count": 15,
   "id": "19f90428-92ec-4877-b056-b156a5f3803a",
   "metadata": {
    "execution": {
     "iopub.execute_input": "2025-03-21T00:26:28.206760Z",
     "iopub.status.busy": "2025-03-21T00:26:28.205753Z",
     "iopub.status.idle": "2025-03-21T00:26:28.216613Z",
     "shell.execute_reply": "2025-03-21T00:26:28.216613Z",
     "shell.execute_reply.started": "2025-03-21T00:26:28.205753Z"
    }
   },
   "outputs": [],
   "source": [
    "Xtrain = train.drop(Configuration.target,axis=1)\n",
    "ytrain = train[Configuration.target]\n",
    "Xtest = test.copy()\n",
    "\n",
    "Xtest[\"winddirection\"] = Xtest[\"winddirection\"].ffill()\n",
    "Xtrain['day'] = train.id.mod(365) + 1\n",
    "Xtest['day'] = test.id.mod(365) + 1\n",
    "Xtrain[\"year_nb\"] = Xtrain.index // 365"
   ]
  },
  {
   "cell_type": "code",
   "execution_count": 375,
   "id": "260c1678-d182-4aad-a16b-4e72570834dd",
   "metadata": {
    "execution": {
     "iopub.execute_input": "2025-03-22T19:43:06.935580Z",
     "iopub.status.busy": "2025-03-22T19:43:06.934587Z",
     "iopub.status.idle": "2025-03-22T19:43:06.943873Z",
     "shell.execute_reply": "2025-03-22T19:43:06.943873Z",
     "shell.execute_reply.started": "2025-03-22T19:43:06.935580Z"
    }
   },
   "outputs": [],
   "source": [
    "from sklearn.preprocessing import StandardScaler\n",
    "from sklearn.pipeline import Pipeline\n",
    "from sklearn.metrics import roc_auc_score\n",
    "import numpy as np\n",
    "import matplotlib.pyplot as plt\n",
    "\n",
    "def tune_hyperparameter(model_class, fixed_params, param_name, param_values, Xtr, ytr, Xdev, ydev, scoring='accuracy'):\n",
    "    \"\"\"\n",
    "    Tune a single hyperparameter using a validation set.\n",
    "\n",
    "    Parameters:\n",
    "        model_class: Class of the model (e.g., XGBClassifier, LogisticRegression)\n",
    "        fixed_params: Dictionary of fixed hyperparameters\n",
    "        param_name: Name of the hyperparameter to tune\n",
    "        param_values: List of values to test for the hyperparameter\n",
    "        Xtr: Training feature matrix\n",
    "        ytr: Training target vector\n",
    "        Xdev: Validation feature matrix\n",
    "        ydev: Validation target vector\n",
    "        scoring: Metric to optimize (default: 'accuracy')\n",
    "\n",
    "    Returns:\n",
    "        Dictionary with results, including best parameter and corresponding scores.\n",
    "    \"\"\"\n",
    "    results = {\n",
    "        'param_values': [],\n",
    "        'train_scores': [],\n",
    "        'dev_scores': []\n",
    "    }\n",
    "\n",
    "    if not param_values:\n",
    "        print(\"No param values found, running without parameters\")\n",
    "        \n",
    "        pipeline = Pipeline([\n",
    "            ('scaler', StandardScaler()),\n",
    "            ('model', model_class())\n",
    "        ])\n",
    "        \n",
    "        pipeline.fit(Xtr, ytr)\n",
    "\n",
    "        train_score = roc_auc_score(ytr, pipeline.predict_proba(Xtr)[:,1])\n",
    "        dev_score =roc_auc_score(ydev, pipeline.predict_proba(Xdev)[:,1])\n",
    "        print(f\"train_score = {train_score:.4f} | dev_score = {dev_score:.4f}\")\n",
    "        return\n",
    "        \n",
    "    for value in param_values:\n",
    "        params = fixed_params.copy()\n",
    "        params[param_name] = value\n",
    "        \n",
    "        pipeline = Pipeline([\n",
    "            ('scaler', StandardScaler()),\n",
    "            ('model', model_class(**params))\n",
    "        ])\n",
    "        \n",
    "        pipeline.fit(Xtr, ytr)\n",
    "\n",
    "        train_score = roc_auc_score(ytr, pipeline.predict_proba(Xtr)[:,1])\n",
    "        dev_score =roc_auc_score(ydev, pipeline.predict_proba(Xdev)[:,1])\n",
    "        \n",
    "        results['param_values'].append(value)\n",
    "        results['train_scores'].append(train_score)\n",
    "        results['dev_scores'].append(dev_score)\n",
    "    \n",
    "    best_index = np.argmax(results['dev_scores'])\n",
    "    best_param = results['param_values'][best_index]\n",
    "    best_score = results['dev_scores'][best_index]\n",
    "    \n",
    "    print(f\"Best {param_name}: {best_param} with Validation Score: {best_score:.4f}\")\n",
    "    \n",
    "    plt.figure(figsize=(8, 5))\n",
    "    plt.plot(results['param_values'], results['train_scores'], marker='s', linestyle='--', label='Training Score')\n",
    "    plt.plot(results['param_values'], results['dev_scores'], marker='^', linestyle='-.', label='Validation Score')\n",
    "    plt.xlabel(param_name)\n",
    "    plt.ylabel(scoring)\n",
    "    plt.legend()\n",
    "    plt.title(f\"Hyperparameter Tuning: {param_name}\")\n",
    "    plt.show()\n",
    "    \n",
    "    return results"
   ]
  },
  {
   "cell_type": "code",
   "execution_count": 203,
   "id": "feab2332-e92d-4a6e-b8f6-abe8d9e79b10",
   "metadata": {
    "execution": {
     "iopub.execute_input": "2025-03-21T02:37:04.670826Z",
     "iopub.status.busy": "2025-03-21T02:37:04.669820Z",
     "iopub.status.idle": "2025-03-21T02:37:04.673848Z",
     "shell.execute_reply": "2025-03-21T02:37:04.673848Z",
     "shell.execute_reply.started": "2025-03-21T02:37:04.670826Z"
    }
   },
   "outputs": [],
   "source": [
    "drop_columns = ['id',Configuration.target,'year_nb']"
   ]
  },
  {
   "cell_type": "code",
   "execution_count": 204,
   "id": "29729ec9-84b0-4be5-bd10-914ad56edb16",
   "metadata": {
    "execution": {
     "iopub.execute_input": "2025-03-21T02:37:04.843772Z",
     "iopub.status.busy": "2025-03-21T02:37:04.843772Z",
     "iopub.status.idle": "2025-03-21T02:37:04.850562Z",
     "shell.execute_reply": "2025-03-21T02:37:04.850562Z",
     "shell.execute_reply.started": "2025-03-21T02:37:04.843772Z"
    }
   },
   "outputs": [],
   "source": [
    "Xtr = Xtrain.loc[Xtrain['year_nb'] <= 3].drop(drop_columns,axis=1,errors=\"ignore\")\n",
    "Xdev = Xtrain.loc[Xtrain['year_nb'] > 3].drop(drop_columns,axis=1,errors=\"ignore\")\n",
    "ytr = ytrain.loc[Xtr.index]\n",
    "ydev = ytrain.loc[Xdev.index]"
   ]
  },
  {
   "cell_type": "code",
   "execution_count": 389,
   "id": "d49edd99-661e-45e9-8ffd-1607dd06a883",
   "metadata": {
    "execution": {
     "iopub.execute_input": "2025-03-22T20:16:55.395040Z",
     "iopub.status.busy": "2025-03-22T20:16:55.394033Z",
     "iopub.status.idle": "2025-03-22T20:16:55.400917Z",
     "shell.execute_reply": "2025-03-22T20:16:55.400917Z",
     "shell.execute_reply.started": "2025-03-22T20:16:55.395040Z"
    }
   },
   "outputs": [],
   "source": [
    "HYPER_PARAMETERS = \\\n",
    "{\n",
    "    \"XGBC\": \\\n",
    "    {\n",
    "        \"objective\": \"binary:logistic\",\n",
    "        \"eval_metric\": \"auc\",\n",
    "        \"random_state\": Configuration.state,\n",
    "        \"n_estimators\": 200,\n",
    "        \"max_depth\": 3,\n",
    "        \"learning_rate\": 0.02,\n",
    "        \"min_child_weight\": 14,\n",
    "        \"colsample_bytree\": 0.8,\n",
    "        \"reg_lambda\": 0,\n",
    "        \"subsample\": 0.8,        \n",
    "    },\n",
    "\n",
    "    \"CBC\": \\\n",
    "    {\n",
    "        \"loss_function\": \"Logloss\",\n",
    "        \"eval_metric\": \"AUC\",\n",
    "        \"task_type\": \"CPU\",        \n",
    "        \"depth\": 3,\n",
    "        \"learning_rate\": 0.01,      \n",
    "        \"iterations\": 200,\n",
    "        \"l2_leaf_reg\": 0,\n",
    "        \"subsample\": 0.8,\n",
    "        \"verbose\": 0,\n",
    "        \"random_state\": Configuration.state,        \n",
    "    },\n",
    "\n",
    "    \"HGBC\": \\\n",
    "    {\n",
    "        \"loss\": \"log_loss\",\n",
    "        \"learning_rate\": 0.02,\n",
    "        \"max_iter\": 300,\n",
    "        \"max_depth\": 3,\n",
    "        \"min_samples_leaf\": 250,\n",
    "        \"scoring\": \"roc_auc\",\n",
    "        \"random_state\": Configuration.state\n",
    "    },\n",
    "    \n",
    "    \"LGBC\": \\\n",
    "    {\n",
    "        \"objective\": \"binary\",\n",
    "        \"metric\": \"auc\",\n",
    "        \"num_leaves\": 5,\n",
    "        \"max_depth\": 10,\n",
    "        \"learning_rate\": 0.02,\n",
    "        \"n_estimators\": 200,\n",
    "        \"min_child_samples\": 250,\n",
    "        \"colsample_bytree\": 0.5, \n",
    "        \"subsample\": 0.5,\n",
    "        \"reg_lambda\": 0,\n",
    "        \"verbose\": -1,\n",
    "        \"random_state\": Configuration.state,\n",
    "    },    \n",
    "\n",
    "    \"RFC\": \\\n",
    "    {\n",
    "        \"criterion\": \"log_loss\",\n",
    "        \"n_estimators\": 40,\n",
    "        \"max_depth\": 5,\n",
    "        \"min_samples_leaf\": 40,\n",
    "        \"min_weight_fraction_leaf\": 0.0,\n",
    "        \"random_state\": Configuration.state,\n",
    "    },  \n",
    "\n",
    "    \"LRC\": \\\n",
    "    {\n",
    "        \"penalty\": \"l2\",\n",
    "        \"C\": 0.005\n",
    "    },      \n",
    "\n",
    "    \"KNNC\": \\\n",
    "    {\n",
    "        \"n_neighbors\": 100,        \n",
    "    },\n",
    "\n",
    "    \"TPFNC\": \\\n",
    "    {},        \n",
    "}        "
   ]
  },
  {
   "cell_type": "code",
   "execution_count": 390,
   "id": "b1eacb5a-4da0-44de-8f95-a6870d4ecb2b",
   "metadata": {
    "execution": {
     "iopub.execute_input": "2025-03-22T20:16:56.103920Z",
     "iopub.status.busy": "2025-03-22T20:16:56.102744Z",
     "iopub.status.idle": "2025-03-22T20:16:56.107580Z",
     "shell.execute_reply": "2025-03-22T20:16:56.107580Z",
     "shell.execute_reply.started": "2025-03-22T20:16:56.103920Z"
    }
   },
   "outputs": [],
   "source": [
    "MODELS = \\\n",
    "{\n",
    "    \"XGBC\": xgboost.XGBClassifier,\n",
    "    \"LGBC\": lightgbm.LGBMClassifier,\n",
    "    \"CBC\": catboost.CatBoostClassifier,\n",
    "    \"HGBC\": sklearn.ensemble.HistGradientBoostingClassifier,\n",
    "    \"RFC\": sklearn.ensemble.RandomForestClassifier,\n",
    "    \"LRC\": sklearn.linear_model.LogisticRegression,\n",
    "    \"KNNC\": sklearn.neighbors.KNeighborsClassifier,\n",
    "    \"TPFNC\": tabpfn.TabPFNClassifier,\n",
    "}"
   ]
  },
  {
   "cell_type": "code",
   "execution_count": 362,
   "id": "6b3af498-250c-4446-81bf-07f127254f1c",
   "metadata": {
    "collapsed": true,
    "execution": {
     "iopub.execute_input": "2025-03-22T19:20:45.259847Z",
     "iopub.status.busy": "2025-03-22T19:20:45.259847Z",
     "iopub.status.idle": "2025-03-22T19:20:46.582519Z",
     "shell.execute_reply": "2025-03-22T19:20:46.582519Z",
     "shell.execute_reply.started": "2025-03-22T19:20:45.259847Z"
    },
    "jupyter": {
     "outputs_hidden": true,
     "source_hidden": true
    },
    "scrolled": true
   },
   "outputs": [
    {
     "name": "stdout",
     "output_type": "stream",
     "text": [
      "Best n_neighbors: 100 with Validation Score: 0.8715\n"
     ]
    },
    {
     "data": {
      "image/png": "[encoded data removed]",
      "text/plain": [
       "<Figure size 800x500 with 1 Axes>"
      ]
     },
     "metadata": {},
     "output_type": "display_data"
    },
    {
     "data": {
      "text/plain": [
       "{'param_values': [1,\n",
       "  2,\n",
       "  3,\n",
       "  4,\n",
       "  5,\n",
       "  6,\n",
       "  7,\n",
       "  8,\n",
       "  9,\n",
       "  10,\n",
       "  20,\n",
       "  30,\n",
       "  40,\n",
       "  50,\n",
       "  100,\n",
       "  200,\n",
       "  300,\n",
       "  400,\n",
       "  500],\n",
       " 'train_scores': [1.0,\n",
       "  0.969988975239918,\n",
       "  0.9594155643961909,\n",
       "  0.9490369983055906,\n",
       "  0.9419128328700632,\n",
       "  0.9372192940700602,\n",
       "  0.9319202567017961,\n",
       "  0.928720116610885,\n",
       "  0.9244162673171357,\n",
       "  0.9220892290313749,\n",
       "  0.9096129988580619,\n",
       "  0.906046599959058,\n",
       "  0.9026479155311,\n",
       "  0.9017365846921083,\n",
       "  0.8964190494042437,\n",
       "  0.889891750174497,\n",
       "  0.8879913972341911,\n",
       "  0.8861650359722877,\n",
       "  0.8832152343933052],\n",
       " 'dev_scores': [0.7437806447495772,\n",
       "  0.793503578987673,\n",
       "  0.8153657161697918,\n",
       "  0.8327554482509227,\n",
       "  0.8379670499143809,\n",
       "  0.8366854213420405,\n",
       "  0.8382223120366727,\n",
       "  0.8417534380617095,\n",
       "  0.8413652269173908,\n",
       "  0.8453536975782007,\n",
       "  0.8553567819955116,\n",
       "  0.8598398230182619,\n",
       "  0.8636208932047095,\n",
       "  0.8634347645738718,\n",
       "  0.8715393369566373,\n",
       "  0.8669393007945034,\n",
       "  0.871183033577605,\n",
       "  0.867853990066049,\n",
       "  0.864248412588677]}"
      ]
     },
     "execution_count": 362,
     "metadata": {},
     "output_type": "execute_result"
    }
   ],
   "source": [
    "# import sklearn.neighbors\n",
    "\n",
    "# tune_hyperparameter(model_class=sklearn.neighbors.KNeighborsClassifier,fixed_params=HYPER_PARAMETERS[\"KNNC\"],Xtr = Xtr,ytr = ytr,Xdev=Xdev,ydev=ydev,scoring=\"roc_auc\",\n",
    "#                     param_name = \"n_neighbors\",param_values = [1,2,3,4,5,6,7,8,9,10,20,30,40,50,100,200,300,400,500])"
   ]
  },
  {
   "cell_type": "code",
   "execution_count": 385,
   "id": "3113770b-d11c-40bf-8cd1-b403204843f5",
   "metadata": {
    "execution": {
     "iopub.execute_input": "2025-03-22T20:16:01.489409Z",
     "iopub.status.busy": "2025-03-22T20:16:01.489409Z",
     "iopub.status.idle": "2025-03-22T20:16:01.700427Z",
     "shell.execute_reply": "2025-03-22T20:16:01.700427Z",
     "shell.execute_reply.started": "2025-03-22T20:16:01.489409Z"
    }
   },
   "outputs": [
    {
     "name": "stdout",
     "output_type": "stream",
     "text": [
      "Best C: 0.005 with Validation Score: 0.8850\n"
     ]
    },
    {
     "data": {
      "image/png": "[encoded data removed]",
      "text/plain": [
       "<Figure size 800x500 with 1 Axes>"
      ]
     },
     "metadata": {},
     "output_type": "display_data"
    },
    {
     "data": {
      "text/plain": [
       "{'param_values': [0.0001, 0.001, 0.005, 0.01, 0.02, 0.05],\n",
       " 'train_scores': [0.8852660370796965,\n",
       "  0.8942387612806478,\n",
       "  0.8976991054406082,\n",
       "  0.898537677795837,\n",
       "  0.8992356659621015,\n",
       "  0.9002814150168578],\n",
       " 'dev_scores': [0.880250156879846,\n",
       "  0.8838770062007424,\n",
       "  0.8850044139075313,\n",
       "  0.8848342391593367,\n",
       "  0.8845470692717583,\n",
       "  0.8842705353059424]}"
      ]
     },
     "execution_count": 385,
     "metadata": {},
     "output_type": "execute_result"
    }
   ],
   "source": [
    "import sklearn.linear_model \n",
    "\n",
    "tune_hyperparameter(model_class=sklearn.linear_model.LogisticRegression,fixed_params=HYPER_PARAMETERS[\"LRC\"],Xtr = Xtr,ytr = ytr,Xdev=Xdev,ydev=ydev,scoring=\"roc_auc\",\n",
    "                    param_name = \"C\",param_values = [1e-4,1e-3,5e-3,1e-2,2e-2,5e-2])"
   ]
  },
  {
   "cell_type": "code",
   "execution_count": 341,
   "id": "dccd5bc5-1a57-4970-90bb-02d20b8bb4ab",
   "metadata": {
    "execution": {
     "iopub.execute_input": "2025-03-21T03:37:39.855395Z",
     "iopub.status.busy": "2025-03-21T03:37:39.855395Z",
     "iopub.status.idle": "2025-03-21T03:37:39.858608Z",
     "shell.execute_reply": "2025-03-21T03:37:39.858608Z",
     "shell.execute_reply.started": "2025-03-21T03:37:39.855395Z"
    },
    "jupyter": {
     "source_hidden": true
    }
   },
   "outputs": [],
   "source": [
    "# tune_hyperparameter(model_class=sklearn.ensemble.RandomForestClassifier,fixed_params=HYPER_PARAMETERS[\"RFC\"],Xtr = Xtr,ytr = ytr,Xdev=Xdev,ydev=ydev,scoring=\"roc_auc\",\n",
    "#                     param_name = \"n_estimators\",param_values = [2,5,10,20,30,40,50,60,70,80,90,100])\n",
    "\n",
    "# tune_hyperparameter(model_class=sklearn.ensemble.RandomForestClassifier,fixed_params=HYPER_PARAMETERS[\"RFC\"],Xtr = Xtr,ytr = ytr,Xdev=Xdev,ydev=ydev,scoring=\"roc_auc\",\n",
    "#                     param_name = \"max_depth\",param_values = [2,3,4,5,6,7,8,9,10,11,12])\n",
    "\n",
    "# tune_hyperparameter(model_class=sklearn.ensemble.RandomForestClassifier,fixed_params=HYPER_PARAMETERS[\"RFC\"],Xtr = Xtr,ytr = ytr,Xdev=Xdev,ydev=ydev,scoring=\"roc_auc\",\n",
    "#                     param_name = \"min_samples_leaf\",param_values = np.arange(1,400,10))"
   ]
  },
  {
   "cell_type": "code",
   "execution_count": 314,
   "id": "d8bcf1b2-7d6c-45ba-bc5d-919c5d103b52",
   "metadata": {
    "execution": {
     "iopub.execute_input": "2025-03-21T03:22:57.025037Z",
     "iopub.status.busy": "2025-03-21T03:22:57.024037Z",
     "iopub.status.idle": "2025-03-21T03:22:57.028566Z",
     "shell.execute_reply": "2025-03-21T03:22:57.028566Z",
     "shell.execute_reply.started": "2025-03-21T03:22:57.025037Z"
    },
    "jupyter": {
     "source_hidden": true
    }
   },
   "outputs": [],
   "source": [
    "# import sklearn.ensemble\n",
    "\n",
    "# tune_hyperparameter(model_class=sklearn.ensemble.HistGradientBoostingClassifier,fixed_params=HYPER_PARAMETERS[\"HGBC\"],Xtr = Xtr,ytr = ytr,Xdev=Xdev,ydev=ydev,scoring=\"roc_auc\",\n",
    "#                     param_name = \"max_depth\",param_values = [2,3,4,5,6])   \n",
    "\n",
    "# tune_hyperparameter(model_class=sklearn.ensemble.HistGradientBoostingClassifier,fixed_params=HYPER_PARAMETERS[\"HGBC\"],Xtr = Xtr,ytr = ytr,Xdev=Xdev,ydev=ydev,scoring=\"roc_auc\",\n",
    "#                     param_name = \"max_iter\",param_values = [50,100,200,300,400,500,1000])\n",
    "\n",
    "# tune_hyperparameter(model_class=sklearn.ensemble.HistGradientBoostingClassifier,fixed_params=HYPER_PARAMETERS[\"HGBC\"],Xtr = Xtr,ytr = ytr,Xdev=Xdev,ydev=ydev,scoring=\"roc_auc\",\n",
    "#                     param_name = \"learning_rate\",param_values = [0.001,0.002,0.005,0.01,0.02,0.05])   \n",
    "\n",
    "# tune_hyperparameter(model_class=sklearn.ensemble.HistGradientBoostingClassifier,fixed_params=HYPER_PARAMETERS[\"HGBC\"],Xtr = Xtr,ytr = ytr,Xdev=Xdev,ydev=ydev,scoring=\"roc_auc\",\n",
    "#                     param_name = \"min_samples_leaf\",param_values = np.arange(1,700,10))\n",
    "\n",
    "\n",
    "# tune_hyperparameter(model_class=sklearn.ensemble.HistGradientBoostingClassifier,fixed_params=HYPER_PARAMETERS[\"HGBC\"],Xtr = Xtr,ytr = ytr,Xdev=Xdev,ydev=ydev,scoring=\"roc_auc\",\n",
    "#                     param_name = \"l2_regularization\",param_values = [0.001,0.1,0.2,0.4,0.5,0.6,0.7,0.8,0.9,1])   "
   ]
  },
  {
   "cell_type": "code",
   "execution_count": 219,
   "id": "1388c1b0-2628-4ddb-b9f3-df395f5b1217",
   "metadata": {
    "execution": {
     "iopub.execute_input": "2025-03-21T02:40:12.508867Z",
     "iopub.status.busy": "2025-03-21T02:40:12.507350Z",
     "iopub.status.idle": "2025-03-21T02:40:12.513750Z",
     "shell.execute_reply": "2025-03-21T02:40:12.512742Z",
     "shell.execute_reply.started": "2025-03-21T02:40:12.508867Z"
    },
    "jupyter": {
     "source_hidden": true
    }
   },
   "outputs": [],
   "source": [
    "# import catboost\n",
    "\n",
    "# tune_hyperparameter(model_class=catboost.CatBoostClassifier,fixed_params=HYPER_PARAMETERS[\"CBC\"],Xtr = Xtr,ytr = ytr,Xdev=Xdev,ydev=ydev,scoring=\"roc_auc\",\n",
    "#                     param_name = \"depth\",param_values = [2,3,4,5,6])   \n",
    "\n",
    "# tune_hyperparameter(model_class=catboost.CatBoostClassifier,fixed_params=HYPER_PARAMETERS[\"CBC\"],Xtr = Xtr,ytr = ytr,Xdev=Xdev,ydev=ydev,scoring=\"roc_auc\",\n",
    "#                     param_name = \"learning_rate\",param_values = [0.001,0.002,0.005,0.01,0.02,0.05])   \n",
    "\n",
    "# tune_hyperparameter(model_class=catboost.CatBoostClassifier,fixed_params=HYPER_PARAMETERS[\"CBC\"],Xtr = Xtr,ytr = ytr,Xdev=Xdev,ydev=ydev,scoring=\"roc_auc\",\n",
    "#                     param_name = \"iterations\",param_values = [50,100,200,300,400,500,1000])\n",
    "\n",
    "# tune_hyperparameter(model_class=catboost.CatBoostClassifier,fixed_params=HYPER_PARAMETERS[\"CBC\"],Xtr = Xtr,ytr = ytr,Xdev=Xdev,ydev=ydev,scoring=\"roc_auc\",\n",
    "#                     param_name = \"subsample\", param_values = np.linspace(0.3,1,20))\n",
    "\n",
    "# tune_hyperparameter(model_class=catboost.CatBoostClassifier,fixed_params=HYPER_PARAMETERS[\"CBC\"],Xtr = Xtr,ytr = ytr,Xdev=Xdev,ydev=ydev,scoring=\"roc_auc\",\n",
    "#                     param_name = \"colsample_bylevel\", param_values = np.linspace(0.1,1,10))\n",
    "\n",
    "# tune_hyperparameter(model_class=catboost.CatBoostClassifier,fixed_params=HYPER_PARAMETERS[\"CBC\"],Xtr = Xtr,ytr = ytr,Xdev=Xdev,ydev=ydev,scoring=\"roc_auc\",\n",
    "#                     param_name = \"l2_leaf_reg\", param_values = np.linspace(0.1,1,10))"
   ]
  },
  {
   "cell_type": "code",
   "execution_count": 313,
   "id": "062f279a-5a6d-4ae9-9092-e98e280564ab",
   "metadata": {
    "execution": {
     "iopub.execute_input": "2025-03-21T03:20:22.472858Z",
     "iopub.status.busy": "2025-03-21T03:20:22.471859Z",
     "iopub.status.idle": "2025-03-21T03:20:22.477569Z",
     "shell.execute_reply": "2025-03-21T03:20:22.476561Z",
     "shell.execute_reply.started": "2025-03-21T03:20:22.472858Z"
    },
    "jupyter": {
     "source_hidden": true
    }
   },
   "outputs": [],
   "source": [
    "import lightgbm\n",
    "\n",
    "# tune_hyperparameter(model_class=lightgbm.LGBMClassifier,fixed_params=HYPER_PARAMETERS[\"LGBC\"],Xtr = Xtr,ytr = ytr,Xdev=Xdev,ydev=ydev,scoring=\"roc_auc\",\n",
    "#                     param_name = \"num_leaves\",param_values = np.arange(2,10,1))   \n",
    "\n",
    "# tune_hyperparameter(model_class=lightgbm.LGBMClassifier,fixed_params=HYPER_PARAMETERS[\"LGBC\"],Xtr = Xtr,ytr = ytr,Xdev=Xdev,ydev=ydev,scoring=\"roc_auc\",\n",
    "#                     param_name = \"max_depth\",param_values = [2,3,4,5,6,7])   \n",
    "\n",
    "# tune_hyperparameter(model_class=lightgbm.LGBMClassifier,fixed_params=HYPER_PARAMETERS[\"LGBC\"],Xtr = Xtr,ytr = ytr,Xdev=Xdev,ydev=ydev,scoring=\"roc_auc\",\n",
    "#                     param_name = \"learning_rate\",param_values = [0.001,0.002,0.005,0.01,0.02,0.05]) \n",
    "\n",
    "# tune_hyperparameter(model_class=lightgbm.LGBMClassifier,fixed_params=HYPER_PARAMETERS[\"LGBC\"],Xtr = Xtr,ytr = ytr,Xdev=Xdev,ydev=ydev,scoring=\"roc_auc\",\n",
    "#                     param_name = \"n_estimators\",param_values = np.arange(10,1000,10)) \n",
    "\n",
    "# tune_hyperparameter(model_class=lightgbm.LGBMClassifier,fixed_params=HYPER_PARAMETERS[\"LGBC\"],Xtr = Xtr,ytr = ytr,Xdev=Xdev,ydev=ydev,scoring=\"roc_auc\",\n",
    "#                     param_name = \"min_child_samples\", param_values = np.arange(1,720,25))\n",
    "\n",
    "# tune_hyperparameter(model_class=lightgbm.LGBMClassifier,fixed_params=HYPER_PARAMETERS[\"LGBC\"],Xtr = Xtr,ytr = ytr,Xdev=Xdev,ydev=ydev,scoring=\"roc_auc\",\n",
    "#                     param_name = \"colsample_bytree\", param_values = np.linspace(.1,1,11))\n",
    "\n",
    "# tune_hyperparameter(model_class=lightgbm.LGBMClassifier,fixed_params=HYPER_PARAMETERS[\"LGBC\"],Xtr = Xtr,ytr = ytr,Xdev=Xdev,ydev=ydev,scoring=\"roc_auc\",\n",
    "#                     param_name = \"subsample\", param_values = np.linspace(.1,1,11))"
   ]
  },
  {
   "cell_type": "code",
   "execution_count": 232,
   "id": "014ea9af-3182-46e6-9420-4001fecb4cc8",
   "metadata": {
    "execution": {
     "iopub.execute_input": "2025-03-21T02:43:03.060461Z",
     "iopub.status.busy": "2025-03-21T02:43:03.060461Z",
     "iopub.status.idle": "2025-03-21T02:43:03.064587Z",
     "shell.execute_reply": "2025-03-21T02:43:03.064587Z",
     "shell.execute_reply.started": "2025-03-21T02:43:03.060461Z"
    },
    "jupyter": {
     "source_hidden": true
    }
   },
   "outputs": [],
   "source": [
    "import xgboost \n",
    "\n",
    "# tune_hyperparameter(model_class=xgboost.XGBClassifier,fixed_params=HYPER_PARAMETERS[\"XGB\"],Xtr = Xtr,ytr = ytr,Xdev=Xdev,ydev=ydev,scoring=\"roc_auc\",\n",
    "#                     param_name = \"n_estimators\",param_values = [50,100,200,300,500,1000])                    \n",
    "\n",
    "# tune_hyperparameter(model_class=xgboost.XGBClassifier,fixed_params=HYPER_PARAMETERS[\"XGB\"],Xtr = Xtr,ytr = ytr,Xdev=Xdev,ydev=ydev,scoring=\"roc_auc\",\n",
    "#                     param_name = \"learning_rate\",param_values = [0.001,0.005,0.01,0.02,0.05])\n",
    "\n",
    "# tune_hyperparameter(model_class=xgboost.XGBClassifier,fixed_params=HYPER_PARAMETERS[\"XGB\"],Xtr = Xtr,ytr = ytr,Xdev=Xdev,ydev=ydev,scoring=\"roc_auc\",\n",
    "#                     param_name = \"max_depth\", param_values = [1,2,3,4,5,6,7,8])\n",
    "\n",
    "# tune_hyperparameter(model_class=xgboost.XGBClassifier,fixed_params=HYPER_PARAMETERS[\"XGB\"],Xtr = Xtr,ytr = ytr,Xdev=Xdev,ydev=ydev,scoring=\"roc_auc\",\n",
    "#                     param_name = \"subsample\", param_values = [0.2,0.3,0.4,0.5,0.6,0.7,0.8,0.9,1])\n",
    "\n",
    "# tune_hyperparameter(model_class=xgboost.XGBClassifier,fixed_params=HYPER_PARAMETERS[\"XGB\"],Xtr = Xtr,ytr = ytr,Xdev=Xdev,ydev=ydev,scoring=\"roc_auc\",\n",
    "#                     param_name = \"min_child_weight\", param_values = [1,2,4,6,8,10,12,14,16,18,20,22,24,26,28])\n",
    "\n",
    "# tune_hyperparameter(model_class=xgboost.XGBClassifier,fixed_params=HYPER_PARAMETERS[\"XGB\"],Xtr = Xtr,ytr = ytr,Xdev=Xdev,ydev=ydev,scoring=\"roc_auc\",\n",
    "#                     param_name = \"colsample_bytree\", param_values = [0.5,0.6,0.7,0.8,0.9,1])\n",
    "\n",
    "# tune_hyperparameter(model_class=xgboost.XGBClassifier,fixed_params=HYPER_PARAMETERS[\"XGB\"],Xtr = Xtr,ytr = ytr,Xdev=Xdev,ydev=ydev,scoring=\"roc_auc\",\n",
    "#                     param_name = \"reg_lambda\", param_values = [0,0.1,0.2,0.3,0.4,0.5,0.6,0.7,0.8,0.9,1])"
   ]
  },
  {
   "cell_type": "code",
   "execution_count": 381,
   "id": "13de8c3f-694e-4f06-9195-3d62f8cb8161",
   "metadata": {
    "execution": {
     "iopub.execute_input": "2025-03-22T19:46:42.479975Z",
     "iopub.status.busy": "2025-03-22T19:46:42.478976Z",
     "iopub.status.idle": "2025-03-22T19:46:42.482248Z",
     "shell.execute_reply": "2025-03-22T19:46:42.482248Z",
     "shell.execute_reply.started": "2025-03-22T19:46:42.479975Z"
    },
    "jupyter": {
     "source_hidden": true
    }
   },
   "outputs": [],
   "source": [
    "# tune_hyperparameter(model_class=tabpfn.TabPFNClassifier,fixed_params=HYPER_PARAMETERS[\"TPFNC\"],Xtr = Xtr,ytr = ytr,Xdev=Xdev,ydev=ydev,scoring=\"roc_auc\",\n",
    "                    # param_name = None,param_values = [])  "
   ]
  },
  {
   "cell_type": "code",
   "execution_count": 399,
   "id": "1c5c85bb-62d4-44b2-840b-926c2da3e51d",
   "metadata": {
    "execution": {
     "iopub.execute_input": "2025-03-22T20:20:27.425352Z",
     "iopub.status.busy": "2025-03-22T20:20:27.424345Z",
     "iopub.status.idle": "2025-03-22T20:20:27.430652Z",
     "shell.execute_reply": "2025-03-22T20:20:27.430652Z",
     "shell.execute_reply.started": "2025-03-22T20:20:27.425352Z"
    }
   },
   "outputs": [],
   "source": [
    "def train_and_predict(models, hyperparameters, Xtrain, ytrain, Xtest, ytest=None):\n",
    "    trained_models = {}\n",
    "    test_probs = []\n",
    "\n",
    "    # Standardize data\n",
    "    scaler = StandardScaler()\n",
    "    Xtrain_scaled = scaler.fit_transform(Xtrain)\n",
    "    Xtest_scaled = scaler.transform(Xtest)    \n",
    "\n",
    "    # Train each model and store predictions\n",
    "    for name, Model in models.items():\n",
    "        print(f\"Training {name}...\")\n",
    "        \n",
    "        # Initialize model with hyperparameters\n",
    "        model = Pipeline([\n",
    "            ('scaler', StandardScaler()), \n",
    "            ('classifier', Model(**hyperparameters.get(name, {})))\n",
    "        ])\n",
    "        \n",
    "        # Fit model\n",
    "        model.fit(Xtrain, ytrain)\n",
    "        \n",
    "        # Store trained model\n",
    "        trained_models[name] = model\n",
    "        \n",
    "        # Get probability predictions for class 1\n",
    "        prob_pred = model.predict_proba(Xtest)[:, 1]\n",
    "\n",
    "        # Print validation score if applicable\n",
    "        if ytest is not None:\n",
    "            test_score = roc_auc_score(ytest, prob_pred)\n",
    "            print(f\"{name} Test AUC: {test_score:.4f}\\n\")        \n",
    "            \n",
    "        test_probs.append(prob_pred)\n",
    "\n",
    "    # Average predictions\n",
    "    avg_probs = np.mean(test_probs, axis=0)\n",
    "\n",
    "    # Compute test score if ytest is provided\n",
    "    test_score = None\n",
    "    if ytest is not None:\n",
    "        test_score = roc_auc_score(ytest, avg_probs)\n",
    "        print(f\"Ensemble Test AUC: {test_score:.4f}\")\n",
    "\n",
    "    return avg_probs"
   ]
  },
  {
   "cell_type": "code",
   "execution_count": 401,
   "id": "9e5247d8-e301-4967-a098-218af7ac7c21",
   "metadata": {
    "execution": {
     "iopub.execute_input": "2025-03-22T20:31:53.215789Z",
     "iopub.status.busy": "2025-03-22T20:31:53.215789Z",
     "iopub.status.idle": "2025-03-22T20:31:54.529534Z",
     "shell.execute_reply": "2025-03-22T20:31:54.529534Z",
     "shell.execute_reply.started": "2025-03-22T20:31:53.215789Z"
    }
   },
   "outputs": [
    {
     "name": "stdout",
     "output_type": "stream",
     "text": [
      "Training XGBC...\n",
      "XGBC Test AUC: 0.8798\n",
      "\n",
      "Training LGBC...\n",
      "LGBC Test AUC: 0.8765\n",
      "\n",
      "Training CBC...\n",
      "CBC Test AUC: 0.8798\n",
      "\n",
      "Training HGBC...\n",
      "HGBC Test AUC: 0.8741\n",
      "\n",
      "Training RFC...\n",
      "RFC Test AUC: 0.8804\n",
      "\n",
      "Training LRC...\n",
      "LRC Test AUC: 0.8850\n",
      "\n",
      "Training KNNC...\n",
      "KNNC Test AUC: 0.8715\n",
      "\n",
      "Training TPFNC...\n",
      "TPFNC Test AUC: 0.8801\n",
      "\n",
      "Ensemble Test AUC: 0.8821\n"
     ]
    }
   ],
   "source": [
    "train_and_predict(models=MODELS,hyperparameters=HYPER_PARAMETERS,\n",
    "                  Xtrain=Xtr,ytrain=ytr,Xtest=Xdev,ytest=ydev);"
   ]
  },
  {
   "cell_type": "code",
   "execution_count": 404,
   "id": "2ad092c2-0396-479e-a84d-8fbe82863369",
   "metadata": {
    "execution": {
     "iopub.execute_input": "2025-03-22T20:38:14.013296Z",
     "iopub.status.busy": "2025-03-22T20:38:14.013296Z",
     "iopub.status.idle": "2025-03-22T20:38:14.027124Z",
     "shell.execute_reply": "2025-03-22T20:38:14.027124Z",
     "shell.execute_reply.started": "2025-03-22T20:38:14.013296Z"
    }
   },
   "outputs": [],
   "source": [
    "Xtrain_full = Xtrain.drop(drop_columns,axis=1,errors=\"ignore\")\n",
    "Xtest_full = Xtest.drop(drop_columns,axis=1,errors=\"ignore\")"
   ]
  },
  {
   "cell_type": "code",
   "execution_count": 405,
   "id": "e6cb9baa-ba6f-4eb4-9088-e73a8531a749",
   "metadata": {
    "execution": {
     "iopub.execute_input": "2025-03-22T20:38:14.742641Z",
     "iopub.status.busy": "2025-03-22T20:38:14.742641Z",
     "iopub.status.idle": "2025-03-22T20:38:16.250304Z",
     "shell.execute_reply": "2025-03-22T20:38:16.250304Z",
     "shell.execute_reply.started": "2025-03-22T20:38:14.742641Z"
    }
   },
   "outputs": [
    {
     "name": "stdout",
     "output_type": "stream",
     "text": [
      "Training XGBC...\n",
      "Training LGBC...\n",
      "Training CBC...\n",
      "Training HGBC...\n",
      "Training RFC...\n",
      "Training LRC...\n",
      "Training KNNC...\n",
      "Training TPFNC...\n"
     ]
    }
   ],
   "source": [
    "y_pred = train_and_predict(models=MODELS,hyperparameters=HYPER_PARAMETERS,\n",
    "                  Xtrain=Xtrain_full,ytrain=ytrain,Xtest=Xtest_full);"
   ]
  },
  {
   "cell_type": "code",
   "execution_count": 409,
   "id": "01bd0f2b-8e77-4124-8a5d-3f8b626e20d2",
   "metadata": {
    "execution": {
     "iopub.execute_input": "2025-03-22T20:38:57.983417Z",
     "iopub.status.busy": "2025-03-22T20:38:57.983417Z",
     "iopub.status.idle": "2025-03-22T20:38:57.987953Z",
     "shell.execute_reply": "2025-03-22T20:38:57.987429Z",
     "shell.execute_reply.started": "2025-03-22T20:38:57.983417Z"
    }
   },
   "outputs": [],
   "source": [
    "sub_fl['rainfall'] = y_pred"
   ]
  },
  {
   "cell_type": "code",
   "execution_count": 412,
   "id": "77624e03-9851-4f0a-a1e7-36d4f8c99b42",
   "metadata": {
    "execution": {
     "iopub.execute_input": "2025-03-22T20:42:05.036126Z",
     "iopub.status.busy": "2025-03-22T20:42:05.036126Z",
     "iopub.status.idle": "2025-03-22T20:42:05.043650Z",
     "shell.execute_reply": "2025-03-22T20:42:05.043124Z",
     "shell.execute_reply.started": "2025-03-22T20:42:05.036126Z"
    }
   },
   "outputs": [],
   "source": [
    "sub_fl.to_csv(\"prediction.csv\",index=False)"
   ]
  },
  {
   "cell_type": "code",
   "execution_count": null,
   "id": "6cdb4aa7-163d-4f31-825c-f7bf885a0995",
   "metadata": {},
   "outputs": [],
   "source": []
  }
 ],
 "metadata": {
  "kernelspec": {
   "display_name": "analysis",
   "language": "python",
   "name": "analysis"
  },
  "language_info": {
   "codemirror_mode": {
    "name": "ipython",
    "version": 3
   },
   "file_extension": ".py",
   "mimetype": "text/x-python",
   "name": "python",
   "nbconvert_exporter": "python",
   "pygments_lexer": "ipython3",
   "version": "3.12.7"
  }
 },
 "nbformat": 4,
 "nbformat_minor": 5
}
