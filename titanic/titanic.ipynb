{
 "cells": [
  {
   "cell_type": "markdown",
   "id": "ee7bafce-e57a-4a3d-823d-9a111bf6e053",
   "metadata": {},
   "source": [
    "Basic Neural Net Code for https://www.kaggle.com/competitions/titanic"
   ]
  },
  {
   "cell_type": "code",
   "execution_count": 8,
   "id": "c94cb2c0-800b-49d4-a0d2-15341c67bbed",
   "metadata": {
    "execution": {
     "iopub.execute_input": "2024-10-08T19:08:20.847176Z",
     "iopub.status.busy": "2024-10-08T19:08:20.847176Z",
     "iopub.status.idle": "2024-10-08T19:08:20.853402Z",
     "shell.execute_reply": "2024-10-08T19:08:20.853402Z",
     "shell.execute_reply.started": "2024-10-08T19:08:20.847176Z"
    }
   },
   "outputs": [],
   "source": [
    "import matplotlib.pyplot as plt\n",
    "import pandas as pd\n",
    "import numpy as np\n",
    "import torch\n",
    "import torch.nn as nn\n",
    "from sklearn.model_selection import KFold"
   ]
  },
  {
   "cell_type": "code",
   "execution_count": 3,
   "id": "af807cb3-0a7a-45ff-877f-2948a8faafa7",
   "metadata": {
    "execution": {
     "iopub.execute_input": "2024-10-08T19:08:13.049601Z",
     "iopub.status.busy": "2024-10-08T19:08:13.048602Z",
     "iopub.status.idle": "2024-10-08T19:08:13.082226Z",
     "shell.execute_reply": "2024-10-08T19:08:13.081334Z",
     "shell.execute_reply.started": "2024-10-08T19:08:13.049601Z"
    }
   },
   "outputs": [
    {
     "data": {
      "text/plain": [
       "device(type='cuda')"
      ]
     },
     "execution_count": 3,
     "metadata": {},
     "output_type": "execute_result"
    }
   ],
   "source": [
    "device = torch.device(\"cuda\" if torch.cuda.is_available() else \"cpu\")\n",
    "device"
   ]
  },
  {
   "cell_type": "code",
   "execution_count": 4,
   "id": "e2f944e1-8417-4c30-9b1c-3134ed6364c8",
   "metadata": {
    "execution": {
     "iopub.execute_input": "2024-10-08T19:08:13.083440Z",
     "iopub.status.busy": "2024-10-08T19:08:13.083096Z",
     "iopub.status.idle": "2024-10-08T19:08:13.097909Z",
     "shell.execute_reply": "2024-10-08T19:08:13.097909Z",
     "shell.execute_reply.started": "2024-10-08T19:08:13.083440Z"
    }
   },
   "outputs": [],
   "source": [
    "example = pd.read_csv(\"gender_submission.csv\")\n",
    "test = pd.read_csv(\"test.csv\")\n",
    "train = pd.read_csv(\"train.csv\")"
   ]
  },
  {
   "cell_type": "code",
   "execution_count": 5,
   "id": "e1316ee6-5f13-48e7-9466-a0c9669ddf7c",
   "metadata": {
    "execution": {
     "iopub.execute_input": "2024-10-08T19:08:13.220508Z",
     "iopub.status.busy": "2024-10-08T19:08:13.220508Z",
     "iopub.status.idle": "2024-10-08T19:08:13.226163Z",
     "shell.execute_reply": "2024-10-08T19:08:13.226163Z",
     "shell.execute_reply.started": "2024-10-08T19:08:13.220508Z"
    }
   },
   "outputs": [],
   "source": [
    "df = train.copy()"
   ]
  },
  {
   "cell_type": "code",
   "execution_count": 6,
   "id": "ffe1a73b-7bc5-4a76-9b81-0ac3e7d81464",
   "metadata": {
    "execution": {
     "iopub.execute_input": "2024-10-08T19:08:13.610846Z",
     "iopub.status.busy": "2024-10-08T19:08:13.610846Z",
     "iopub.status.idle": "2024-10-08T19:08:13.623960Z",
     "shell.execute_reply": "2024-10-08T19:08:13.623960Z",
     "shell.execute_reply.started": "2024-10-08T19:08:13.610846Z"
    }
   },
   "outputs": [
    {
     "name": "stdout",
     "output_type": "stream",
     "text": [
      "<class 'pandas.core.frame.DataFrame'>\n",
      "RangeIndex: 891 entries, 0 to 890\n",
      "Data columns (total 12 columns):\n",
      " #   Column       Non-Null Count  Dtype  \n",
      "---  ------       --------------  -----  \n",
      " 0   PassengerId  891 non-null    int64  \n",
      " 1   Survived     891 non-null    int64  \n",
      " 2   Pclass       891 non-null    int64  \n",
      " 3   Name         891 non-null    object \n",
      " 4   Sex          891 non-null    object \n",
      " 5   Age          714 non-null    float64\n",
      " 6   SibSp        891 non-null    int64  \n",
      " 7   Parch        891 non-null    int64  \n",
      " 8   Ticket       891 non-null    object \n",
      " 9   Fare         891 non-null    float64\n",
      " 10  Cabin        204 non-null    object \n",
      " 11  Embarked     889 non-null    object \n",
      "dtypes: float64(2), int64(5), object(5)\n",
      "memory usage: 83.7+ KB\n"
     ]
    }
   ],
   "source": [
    "train.info()"
   ]
  },
  {
   "cell_type": "markdown",
   "id": "0e1df2d1-94b1-4850-a4ba-25d8f0ca2dd3",
   "metadata": {},
   "source": [
    "Neural Net"
   ]
  },
  {
   "cell_type": "code",
   "execution_count": 7,
   "id": "63f91d54-44b4-420f-ae6f-f043a100508e",
   "metadata": {
    "execution": {
     "iopub.execute_input": "2024-10-08T19:08:14.219556Z",
     "iopub.status.busy": "2024-10-08T19:08:14.219556Z",
     "iopub.status.idle": "2024-10-08T19:08:14.226286Z",
     "shell.execute_reply": "2024-10-08T19:08:14.226286Z",
     "shell.execute_reply.started": "2024-10-08T19:08:14.219556Z"
    }
   },
   "outputs": [],
   "source": [
    "def preprocess(df):\n",
    "    df['_sex'] = np.select([df.Sex == 'male'],[0],1)\n",
    "    df['_age'] = df.Age\n",
    "    df['_fare'] = df.Fare\n",
    "    df['_siblings'] = df.SibSp\n",
    "    df['_par'] = df.Parch\n",
    "    df['_class'] = df.Pclass\n",
    "    return df\n",
    "    \n",
    "def calculate_columns(df, features):\n",
    "    X = df[features]\n",
    "    X = (X - X.mean()) / X.std()\n",
    "    X = X.fillna(0)\n",
    "    return X    "
   ]
  },
  {
   "cell_type": "markdown",
   "id": "f955525c-9641-4906-bb5d-5683200b92ee",
   "metadata": {},
   "source": [
    "K-fold given set of hyperparameters"
   ]
  },
  {
   "cell_type": "code",
   "execution_count": 15,
   "id": "e6c5f98b-47a9-4a3d-96fe-a20de6844842",
   "metadata": {
    "execution": {
     "iopub.execute_input": "2024-10-08T19:10:29.587863Z",
     "iopub.status.busy": "2024-10-08T19:10:29.587863Z",
     "iopub.status.idle": "2024-10-08T19:10:45.675290Z",
     "shell.execute_reply": "2024-10-08T19:10:45.675290Z",
     "shell.execute_reply.started": "2024-10-08T19:10:29.587863Z"
    }
   },
   "outputs": [],
   "source": [
    "model = nn.Sequential(nn.Linear(6,10),\n",
    "                      nn.ReLU(),\n",
    "                      nn.Linear(10,10),\n",
    "                      nn.ReLU(),\n",
    "                      nn.Linear(10,10),   \n",
    "                      nn.ReLU(),\n",
    "                      nn.Linear(10,1),                         \n",
    "                      nn.Sigmoid()\n",
    "                     )\n",
    "loss_fn = nn.BCELoss()\n",
    "optimizer = torch.optim.Adam(model.parameters(), lr=0.01)\n",
    "\n",
    "num_epochs = 2000\n",
    "\n",
    "kf = KFold(n_splits=5,shuffle=True)\n",
    "acc = []\n",
    "\n",
    "features = ['_sex','_age','_fare','_siblings','_par','_class']\n",
    "train = preprocess(train)\n",
    "\n",
    "for i, (train_index, test_index) in enumerate(kf.split(train)):\n",
    "    Xv = calculate_columns(train.iloc[train_index],features=features).astype(np.float32).values\n",
    "    X = torch.tensor(Xv)\n",
    "    yv = train.iloc[train_index][['Survived']].astype(np.float32).values\n",
    "    y = torch.tensor(yv)\n",
    "    \n",
    "    for n in (range(num_epochs)):\n",
    "        y_pred = model(X)\n",
    "        loss = loss_fn(y_pred, y)\n",
    "        optimizer.zero_grad()        \n",
    "        loss.backward()\n",
    "        optimizer.step()\n",
    "\n",
    "    Xv_test = calculate_columns(train.iloc[test_index],features=features).astype(np.float32).values\n",
    "    X_test = torch.tensor(Xv_test)\n",
    "    yv_pred = model(X_test)\n",
    "\n",
    "    acc.append((np.round((yv_pred).detach().cpu().numpy()) ==  train.iloc[test_index][['Survived']].values).mean())    "
   ]
  },
  {
   "cell_type": "code",
   "execution_count": 16,
   "id": "6a9b33df-17ae-48d0-b061-fea366e2f838",
   "metadata": {
    "execution": {
     "iopub.execute_input": "2024-10-08T19:10:45.677296Z",
     "iopub.status.busy": "2024-10-08T19:10:45.677296Z",
     "iopub.status.idle": "2024-10-08T19:10:45.682859Z",
     "shell.execute_reply": "2024-10-08T19:10:45.682859Z",
     "shell.execute_reply.started": "2024-10-08T19:10:45.677296Z"
    }
   },
   "outputs": [
    {
     "name": "stdout",
     "output_type": "stream",
     "text": [
      "Fold 0 accuracy = 76.0%\n",
      "\n",
      "Fold 1 accuracy = 80.3%\n",
      "\n",
      "Fold 2 accuracy = 73.6%\n",
      "\n",
      "Fold 3 accuracy = 78.7%\n",
      "\n",
      "Fold 4 accuracy = 61.2%\n",
      "\n"
     ]
    }
   ],
   "source": [
    "[print(f\"Fold {i} accuracy = {x:.1%}\\n\") for i,x in enumerate(acc)];"
   ]
  },
  {
   "cell_type": "markdown",
   "id": "43a29713-cd73-4449-99cb-a99c233d7353",
   "metadata": {},
   "source": [
    "Hyper parameter tuning"
   ]
  },
  {
   "cell_type": "code",
   "execution_count": 22,
   "id": "3385136a-f21e-4018-bf5f-6c2a81995323",
   "metadata": {
    "execution": {
     "iopub.execute_input": "2024-10-08T19:13:53.212068Z",
     "iopub.status.busy": "2024-10-08T19:13:53.212068Z",
     "iopub.status.idle": "2024-10-08T19:15:27.446614Z",
     "shell.execute_reply": "2024-10-08T19:15:27.446614Z",
     "shell.execute_reply.started": "2024-10-08T19:13:53.212068Z"
    }
   },
   "outputs": [],
   "source": [
    "epochs = [100,200,500,1000,2000,5000,10000]\n",
    "epoch_acc = []\n",
    "for epoch in epochs:\n",
    "    nodes = 10\n",
    "    model = nn.Sequential(nn.Linear(6,nodes),\n",
    "                          nn.ReLU(),\n",
    "                          nn.Linear(nodes,1),\n",
    "                          nn.Sigmoid()\n",
    "                         )\n",
    "    loss_fn = nn.BCELoss()\n",
    "    optimizer = torch.optim.Adam(model.parameters(), lr=0.001)\n",
    "    \n",
    "    num_epochs = epoch\n",
    "    \n",
    "    kf = KFold(n_splits=5,shuffle=True)\n",
    "    acc = []\n",
    "    \n",
    "    features = ['_sex','_age','_fare','_siblings','_par','_class']\n",
    "    train = preprocess(train)\n",
    "    \n",
    "    for i, (train_index, test_index) in enumerate(kf.split(train)):\n",
    "        Xv = calculate_columns(train.iloc[train_index],features=features).astype(np.float32).values\n",
    "        X = torch.tensor(Xv)\n",
    "        yv = train.iloc[train_index][['Survived']].astype(np.float32).values\n",
    "        y = torch.tensor(yv)\n",
    "        \n",
    "        # print(i)\n",
    "        for n in (range(num_epochs)):\n",
    "            y_pred = model(X)\n",
    "            loss = loss_fn(y_pred, y)\n",
    "            optimizer.zero_grad()        \n",
    "            loss.backward()\n",
    "            optimizer.step()\n",
    "    \n",
    "        Xv_test = calculate_columns(train.iloc[test_index],features=features).astype(np.float32).values\n",
    "        X_test = torch.tensor(Xv_test)\n",
    "        yv_pred = model(X_test)\n",
    "    \n",
    "        acc.append((np.round((yv_pred).detach().cpu().numpy()) ==  train.iloc[test_index][['Survived']].values).mean())\n",
    "\n",
    "    epoch_acc.append(np.mean(acc))    "
   ]
  },
  {
   "cell_type": "code",
   "execution_count": 24,
   "id": "c6cc9913-1b94-47ee-bec9-00e25c3dcbdc",
   "metadata": {
    "execution": {
     "iopub.execute_input": "2024-10-08T19:15:40.736386Z",
     "iopub.status.busy": "2024-10-08T19:15:40.731774Z",
     "iopub.status.idle": "2024-10-08T19:15:40.740175Z",
     "shell.execute_reply": "2024-10-08T19:15:40.739583Z",
     "shell.execute_reply.started": "2024-10-08T19:15:40.736386Z"
    }
   },
   "outputs": [
    {
     "name": "stdout",
     "output_type": "stream",
     "text": [
      "Epochs = 100 accuracy = 79.5%\n",
      "\n",
      "Epochs = 200 accuracy = 80.8%\n",
      "\n",
      "Epochs = 500 accuracy = 82.0%\n",
      "\n",
      "Epochs = 1000 accuracy = 81.3%\n",
      "\n",
      "Epochs = 2000 accuracy = 79.1%\n",
      "\n",
      "Epochs = 5000 accuracy = 83.0%\n",
      "\n",
      "Epochs = 10000 accuracy = 80.2%\n",
      "\n"
     ]
    }
   ],
   "source": [
    "[print(f\"Epochs = {x} accuracy = {y:.1%}\\n\") for x,y in (list(zip(epochs,epoch_acc)))];"
   ]
  },
  {
   "cell_type": "markdown",
   "id": "ce5d2b33-601a-46dd-8def-397524a07d06",
   "metadata": {},
   "source": [
    "Train using all data using GPU"
   ]
  },
  {
   "cell_type": "code",
   "execution_count": 25,
   "id": "dd0f5c5a-9ea9-4502-87ef-6c091a550ec7",
   "metadata": {
    "execution": {
     "iopub.execute_input": "2024-10-08T19:20:42.675246Z",
     "iopub.status.busy": "2024-10-08T19:20:42.674250Z",
     "iopub.status.idle": "2024-10-08T19:20:45.465480Z",
     "shell.execute_reply": "2024-10-08T19:20:45.465480Z",
     "shell.execute_reply.started": "2024-10-08T19:20:42.675246Z"
    }
   },
   "outputs": [],
   "source": [
    "model = nn.Sequential(nn.Linear(6,10),\n",
    "                      nn.ReLU(),\n",
    "                      nn.Linear(10,1),\n",
    "                      nn.Sigmoid()\n",
    "                     ).to(device)\n",
    "loss_fn = nn.BCELoss()\n",
    "optimizer = torch.optim.Adam(model.parameters(), lr=0.001)\n",
    "\n",
    "num_epochs = 2000\n",
    "\n",
    "features = ['_sex','_age','_fare','_siblings','_par','_class']\n",
    "train = preprocess(train)\n",
    "Xv = calculate_columns(train,features=features).astype(np.float32).values\n",
    "X = torch.tensor(Xv,device=device)\n",
    "yv = train[['Survived']].astype(np.float32).values\n",
    "y = torch.tensor(yv,device=device)\n",
    "\n",
    "for n in (range(num_epochs)):\n",
    "    y_pred = model(X)\n",
    "    loss = loss_fn(y_pred, y)\n",
    "    optimizer.zero_grad()\n",
    "    loss.backward()\n",
    "    optimizer.step()"
   ]
  },
  {
   "cell_type": "markdown",
   "id": "aa90c897-3a2e-411c-9777-62b31f343551",
   "metadata": {},
   "source": [
    "Predict on test data"
   ]
  },
  {
   "cell_type": "code",
   "execution_count": 26,
   "id": "cef49808-d0df-47f7-b87a-422f1aa9a4cb",
   "metadata": {
    "execution": {
     "iopub.execute_input": "2024-10-08T19:20:53.093317Z",
     "iopub.status.busy": "2024-10-08T19:20:53.093317Z",
     "iopub.status.idle": "2024-10-08T19:20:53.108957Z",
     "shell.execute_reply": "2024-10-08T19:20:53.108957Z",
     "shell.execute_reply.started": "2024-10-08T19:20:53.093317Z"
    }
   },
   "outputs": [],
   "source": [
    "test = preprocess(test)\n",
    "\n",
    "Xvtest = calculate_columns(test,features=features).astype(np.float32).values\n",
    "Xtest = torch.tensor(Xvtest,device=device)\n",
    "ytest_pred = model(Xtest)\n",
    "ytest_pred_arr = np.round((ytest_pred).detach().cpu().numpy())\n",
    "test['Survived'] = ytest_pred_arr.astype(int)"
   ]
  },
  {
   "cell_type": "markdown",
   "id": "a72217d4-1bff-4577-ae91-536de4d52c43",
   "metadata": {},
   "source": [
    "Export submission"
   ]
  },
  {
   "cell_type": "code",
   "execution_count": 28,
   "id": "7f689c40-e903-4b7d-9885-72aefa48a6c1",
   "metadata": {
    "execution": {
     "iopub.execute_input": "2024-10-04T21:05:45.057492Z",
     "iopub.status.busy": "2024-10-04T21:05:45.057492Z",
     "iopub.status.idle": "2024-10-04T21:05:45.062333Z",
     "shell.execute_reply": "2024-10-04T21:05:45.062333Z",
     "shell.execute_reply.started": "2024-10-04T21:05:45.057492Z"
    }
   },
   "outputs": [],
   "source": [
    "test[['PassengerId','Survived']].to_csv('submission.csv',index=False)"
   ]
  }
 ],
 "metadata": {
  "kernelspec": {
   "display_name": "analysis",
   "language": "python",
   "name": "analysis"
  },
  "language_info": {
   "codemirror_mode": {
    "name": "ipython",
    "version": 3
   },
   "file_extension": ".py",
   "mimetype": "text/x-python",
   "name": "python",
   "nbconvert_exporter": "python",
   "pygments_lexer": "ipython3",
   "version": "3.12.7"
  }
 },
 "nbformat": 4,
 "nbformat_minor": 5
}
